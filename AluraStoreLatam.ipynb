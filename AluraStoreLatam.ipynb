{
  "nbformat": 4,
  "nbformat_minor": 0,
  "metadata": {
    "colab": {
      "provenance": []
    },
    "kernelspec": {
      "name": "python3",
      "display_name": "Python 3"
    },
    "language_info": {
      "name": "python"
    }
  },
  "cells": [
    {
      "cell_type": "markdown",
      "source": [
        "### Importación de datos\n",
        "\n"
      ],
      "metadata": {
        "id": "RhEdWd9YUR6H"
      }
    },
    {
      "cell_type": "code",
      "execution_count": 1,
      "metadata": {
        "colab": {
          "base_uri": "https://localhost:8080/",
          "height": 400
        },
        "id": "T3EvaeQ_INIL",
        "outputId": "c68237f5-5336-4882-98f5-7b5e2d661e9c"
      },
      "outputs": [
        {
          "output_type": "execute_result",
          "data": {
            "text/plain": [
              "            Producto Categoría del Producto    Precio  Costo de envío  \\\n",
              "0  Asistente virtual           Electrónicos  164300.0          6900.0   \n",
              "1    Mesa de comedor                Muebles  192300.0          8400.0   \n",
              "2      Juego de mesa               Juguetes  209600.0         15900.0   \n",
              "3         Microondas      Electrodomésticos  757500.0         41000.0   \n",
              "4   Silla de oficina                Muebles  335200.0         20200.0   \n",
              "\n",
              "  Fecha de Compra         Vendedor Lugar de Compra  Calificación  \\\n",
              "0      16/01/2021      Pedro Gomez          Bogotá             4   \n",
              "1      18/05/2022  Beatriz Morales        Medellín             1   \n",
              "2      15/03/2021   Juan Fernandez       Cartagena             1   \n",
              "3      03/05/2022   Juan Fernandez            Cali             4   \n",
              "4      07/11/2020    Maria Alfonso        Medellín             5   \n",
              "\n",
              "       Método de pago  Cantidad de cuotas       lat       lon  \n",
              "0  Tarjeta de crédito                   8   4.60971 -74.08175  \n",
              "1  Tarjeta de crédito                   4   6.25184 -75.56359  \n",
              "2  Tarjeta de crédito                   1  10.39972 -75.51444  \n",
              "3               Nequi                   1   3.43722 -76.52250  \n",
              "4               Nequi                   1   6.25184 -75.56359  "
            ],
            "text/html": [
              "\n",
              "  <div id=\"df-c20493fa-1aaa-479e-bab7-ae807c7a7fa6\" class=\"colab-df-container\">\n",
              "    <div>\n",
              "<style scoped>\n",
              "    .dataframe tbody tr th:only-of-type {\n",
              "        vertical-align: middle;\n",
              "    }\n",
              "\n",
              "    .dataframe tbody tr th {\n",
              "        vertical-align: top;\n",
              "    }\n",
              "\n",
              "    .dataframe thead th {\n",
              "        text-align: right;\n",
              "    }\n",
              "</style>\n",
              "<table border=\"1\" class=\"dataframe\">\n",
              "  <thead>\n",
              "    <tr style=\"text-align: right;\">\n",
              "      <th></th>\n",
              "      <th>Producto</th>\n",
              "      <th>Categoría del Producto</th>\n",
              "      <th>Precio</th>\n",
              "      <th>Costo de envío</th>\n",
              "      <th>Fecha de Compra</th>\n",
              "      <th>Vendedor</th>\n",
              "      <th>Lugar de Compra</th>\n",
              "      <th>Calificación</th>\n",
              "      <th>Método de pago</th>\n",
              "      <th>Cantidad de cuotas</th>\n",
              "      <th>lat</th>\n",
              "      <th>lon</th>\n",
              "    </tr>\n",
              "  </thead>\n",
              "  <tbody>\n",
              "    <tr>\n",
              "      <th>0</th>\n",
              "      <td>Asistente virtual</td>\n",
              "      <td>Electrónicos</td>\n",
              "      <td>164300.0</td>\n",
              "      <td>6900.0</td>\n",
              "      <td>16/01/2021</td>\n",
              "      <td>Pedro Gomez</td>\n",
              "      <td>Bogotá</td>\n",
              "      <td>4</td>\n",
              "      <td>Tarjeta de crédito</td>\n",
              "      <td>8</td>\n",
              "      <td>4.60971</td>\n",
              "      <td>-74.08175</td>\n",
              "    </tr>\n",
              "    <tr>\n",
              "      <th>1</th>\n",
              "      <td>Mesa de comedor</td>\n",
              "      <td>Muebles</td>\n",
              "      <td>192300.0</td>\n",
              "      <td>8400.0</td>\n",
              "      <td>18/05/2022</td>\n",
              "      <td>Beatriz Morales</td>\n",
              "      <td>Medellín</td>\n",
              "      <td>1</td>\n",
              "      <td>Tarjeta de crédito</td>\n",
              "      <td>4</td>\n",
              "      <td>6.25184</td>\n",
              "      <td>-75.56359</td>\n",
              "    </tr>\n",
              "    <tr>\n",
              "      <th>2</th>\n",
              "      <td>Juego de mesa</td>\n",
              "      <td>Juguetes</td>\n",
              "      <td>209600.0</td>\n",
              "      <td>15900.0</td>\n",
              "      <td>15/03/2021</td>\n",
              "      <td>Juan Fernandez</td>\n",
              "      <td>Cartagena</td>\n",
              "      <td>1</td>\n",
              "      <td>Tarjeta de crédito</td>\n",
              "      <td>1</td>\n",
              "      <td>10.39972</td>\n",
              "      <td>-75.51444</td>\n",
              "    </tr>\n",
              "    <tr>\n",
              "      <th>3</th>\n",
              "      <td>Microondas</td>\n",
              "      <td>Electrodomésticos</td>\n",
              "      <td>757500.0</td>\n",
              "      <td>41000.0</td>\n",
              "      <td>03/05/2022</td>\n",
              "      <td>Juan Fernandez</td>\n",
              "      <td>Cali</td>\n",
              "      <td>4</td>\n",
              "      <td>Nequi</td>\n",
              "      <td>1</td>\n",
              "      <td>3.43722</td>\n",
              "      <td>-76.52250</td>\n",
              "    </tr>\n",
              "    <tr>\n",
              "      <th>4</th>\n",
              "      <td>Silla de oficina</td>\n",
              "      <td>Muebles</td>\n",
              "      <td>335200.0</td>\n",
              "      <td>20200.0</td>\n",
              "      <td>07/11/2020</td>\n",
              "      <td>Maria Alfonso</td>\n",
              "      <td>Medellín</td>\n",
              "      <td>5</td>\n",
              "      <td>Nequi</td>\n",
              "      <td>1</td>\n",
              "      <td>6.25184</td>\n",
              "      <td>-75.56359</td>\n",
              "    </tr>\n",
              "  </tbody>\n",
              "</table>\n",
              "</div>\n",
              "    <div class=\"colab-df-buttons\">\n",
              "\n",
              "  <div class=\"colab-df-container\">\n",
              "    <button class=\"colab-df-convert\" onclick=\"convertToInteractive('df-c20493fa-1aaa-479e-bab7-ae807c7a7fa6')\"\n",
              "            title=\"Convert this dataframe to an interactive table.\"\n",
              "            style=\"display:none;\">\n",
              "\n",
              "  <svg xmlns=\"http://www.w3.org/2000/svg\" height=\"24px\" viewBox=\"0 -960 960 960\">\n",
              "    <path d=\"M120-120v-720h720v720H120Zm60-500h600v-160H180v160Zm220 220h160v-160H400v160Zm0 220h160v-160H400v160ZM180-400h160v-160H180v160Zm440 0h160v-160H620v160ZM180-180h160v-160H180v160Zm440 0h160v-160H620v160Z\"/>\n",
              "  </svg>\n",
              "    </button>\n",
              "\n",
              "  <style>\n",
              "    .colab-df-container {\n",
              "      display:flex;\n",
              "      gap: 12px;\n",
              "    }\n",
              "\n",
              "    .colab-df-convert {\n",
              "      background-color: #E8F0FE;\n",
              "      border: none;\n",
              "      border-radius: 50%;\n",
              "      cursor: pointer;\n",
              "      display: none;\n",
              "      fill: #1967D2;\n",
              "      height: 32px;\n",
              "      padding: 0 0 0 0;\n",
              "      width: 32px;\n",
              "    }\n",
              "\n",
              "    .colab-df-convert:hover {\n",
              "      background-color: #E2EBFA;\n",
              "      box-shadow: 0px 1px 2px rgba(60, 64, 67, 0.3), 0px 1px 3px 1px rgba(60, 64, 67, 0.15);\n",
              "      fill: #174EA6;\n",
              "    }\n",
              "\n",
              "    .colab-df-buttons div {\n",
              "      margin-bottom: 4px;\n",
              "    }\n",
              "\n",
              "    [theme=dark] .colab-df-convert {\n",
              "      background-color: #3B4455;\n",
              "      fill: #D2E3FC;\n",
              "    }\n",
              "\n",
              "    [theme=dark] .colab-df-convert:hover {\n",
              "      background-color: #434B5C;\n",
              "      box-shadow: 0px 1px 3px 1px rgba(0, 0, 0, 0.15);\n",
              "      filter: drop-shadow(0px 1px 2px rgba(0, 0, 0, 0.3));\n",
              "      fill: #FFFFFF;\n",
              "    }\n",
              "  </style>\n",
              "\n",
              "    <script>\n",
              "      const buttonEl =\n",
              "        document.querySelector('#df-c20493fa-1aaa-479e-bab7-ae807c7a7fa6 button.colab-df-convert');\n",
              "      buttonEl.style.display =\n",
              "        google.colab.kernel.accessAllowed ? 'block' : 'none';\n",
              "\n",
              "      async function convertToInteractive(key) {\n",
              "        const element = document.querySelector('#df-c20493fa-1aaa-479e-bab7-ae807c7a7fa6');\n",
              "        const dataTable =\n",
              "          await google.colab.kernel.invokeFunction('convertToInteractive',\n",
              "                                                    [key], {});\n",
              "        if (!dataTable) return;\n",
              "\n",
              "        const docLinkHtml = 'Like what you see? Visit the ' +\n",
              "          '<a target=\"_blank\" href=https://colab.research.google.com/notebooks/data_table.ipynb>data table notebook</a>'\n",
              "          + ' to learn more about interactive tables.';\n",
              "        element.innerHTML = '';\n",
              "        dataTable['output_type'] = 'display_data';\n",
              "        await google.colab.output.renderOutput(dataTable, element);\n",
              "        const docLink = document.createElement('div');\n",
              "        docLink.innerHTML = docLinkHtml;\n",
              "        element.appendChild(docLink);\n",
              "      }\n",
              "    </script>\n",
              "  </div>\n",
              "\n",
              "\n",
              "    <div id=\"df-e9df29b6-4c1e-4c4e-9310-91df12427681\">\n",
              "      <button class=\"colab-df-quickchart\" onclick=\"quickchart('df-e9df29b6-4c1e-4c4e-9310-91df12427681')\"\n",
              "                title=\"Suggest charts\"\n",
              "                style=\"display:none;\">\n",
              "\n",
              "<svg xmlns=\"http://www.w3.org/2000/svg\" height=\"24px\"viewBox=\"0 0 24 24\"\n",
              "     width=\"24px\">\n",
              "    <g>\n",
              "        <path d=\"M19 3H5c-1.1 0-2 .9-2 2v14c0 1.1.9 2 2 2h14c1.1 0 2-.9 2-2V5c0-1.1-.9-2-2-2zM9 17H7v-7h2v7zm4 0h-2V7h2v10zm4 0h-2v-4h2v4z\"/>\n",
              "    </g>\n",
              "</svg>\n",
              "      </button>\n",
              "\n",
              "<style>\n",
              "  .colab-df-quickchart {\n",
              "      --bg-color: #E8F0FE;\n",
              "      --fill-color: #1967D2;\n",
              "      --hover-bg-color: #E2EBFA;\n",
              "      --hover-fill-color: #174EA6;\n",
              "      --disabled-fill-color: #AAA;\n",
              "      --disabled-bg-color: #DDD;\n",
              "  }\n",
              "\n",
              "  [theme=dark] .colab-df-quickchart {\n",
              "      --bg-color: #3B4455;\n",
              "      --fill-color: #D2E3FC;\n",
              "      --hover-bg-color: #434B5C;\n",
              "      --hover-fill-color: #FFFFFF;\n",
              "      --disabled-bg-color: #3B4455;\n",
              "      --disabled-fill-color: #666;\n",
              "  }\n",
              "\n",
              "  .colab-df-quickchart {\n",
              "    background-color: var(--bg-color);\n",
              "    border: none;\n",
              "    border-radius: 50%;\n",
              "    cursor: pointer;\n",
              "    display: none;\n",
              "    fill: var(--fill-color);\n",
              "    height: 32px;\n",
              "    padding: 0;\n",
              "    width: 32px;\n",
              "  }\n",
              "\n",
              "  .colab-df-quickchart:hover {\n",
              "    background-color: var(--hover-bg-color);\n",
              "    box-shadow: 0 1px 2px rgba(60, 64, 67, 0.3), 0 1px 3px 1px rgba(60, 64, 67, 0.15);\n",
              "    fill: var(--button-hover-fill-color);\n",
              "  }\n",
              "\n",
              "  .colab-df-quickchart-complete:disabled,\n",
              "  .colab-df-quickchart-complete:disabled:hover {\n",
              "    background-color: var(--disabled-bg-color);\n",
              "    fill: var(--disabled-fill-color);\n",
              "    box-shadow: none;\n",
              "  }\n",
              "\n",
              "  .colab-df-spinner {\n",
              "    border: 2px solid var(--fill-color);\n",
              "    border-color: transparent;\n",
              "    border-bottom-color: var(--fill-color);\n",
              "    animation:\n",
              "      spin 1s steps(1) infinite;\n",
              "  }\n",
              "\n",
              "  @keyframes spin {\n",
              "    0% {\n",
              "      border-color: transparent;\n",
              "      border-bottom-color: var(--fill-color);\n",
              "      border-left-color: var(--fill-color);\n",
              "    }\n",
              "    20% {\n",
              "      border-color: transparent;\n",
              "      border-left-color: var(--fill-color);\n",
              "      border-top-color: var(--fill-color);\n",
              "    }\n",
              "    30% {\n",
              "      border-color: transparent;\n",
              "      border-left-color: var(--fill-color);\n",
              "      border-top-color: var(--fill-color);\n",
              "      border-right-color: var(--fill-color);\n",
              "    }\n",
              "    40% {\n",
              "      border-color: transparent;\n",
              "      border-right-color: var(--fill-color);\n",
              "      border-top-color: var(--fill-color);\n",
              "    }\n",
              "    60% {\n",
              "      border-color: transparent;\n",
              "      border-right-color: var(--fill-color);\n",
              "    }\n",
              "    80% {\n",
              "      border-color: transparent;\n",
              "      border-right-color: var(--fill-color);\n",
              "      border-bottom-color: var(--fill-color);\n",
              "    }\n",
              "    90% {\n",
              "      border-color: transparent;\n",
              "      border-bottom-color: var(--fill-color);\n",
              "    }\n",
              "  }\n",
              "</style>\n",
              "\n",
              "      <script>\n",
              "        async function quickchart(key) {\n",
              "          const quickchartButtonEl =\n",
              "            document.querySelector('#' + key + ' button');\n",
              "          quickchartButtonEl.disabled = true;  // To prevent multiple clicks.\n",
              "          quickchartButtonEl.classList.add('colab-df-spinner');\n",
              "          try {\n",
              "            const charts = await google.colab.kernel.invokeFunction(\n",
              "                'suggestCharts', [key], {});\n",
              "          } catch (error) {\n",
              "            console.error('Error during call to suggestCharts:', error);\n",
              "          }\n",
              "          quickchartButtonEl.classList.remove('colab-df-spinner');\n",
              "          quickchartButtonEl.classList.add('colab-df-quickchart-complete');\n",
              "        }\n",
              "        (() => {\n",
              "          let quickchartButtonEl =\n",
              "            document.querySelector('#df-e9df29b6-4c1e-4c4e-9310-91df12427681 button');\n",
              "          quickchartButtonEl.style.display =\n",
              "            google.colab.kernel.accessAllowed ? 'block' : 'none';\n",
              "        })();\n",
              "      </script>\n",
              "    </div>\n",
              "\n",
              "    </div>\n",
              "  </div>\n"
            ],
            "application/vnd.google.colaboratory.intrinsic+json": {
              "type": "dataframe",
              "variable_name": "tienda",
              "summary": "{\n  \"name\": \"tienda\",\n  \"rows\": 2359,\n  \"fields\": [\n    {\n      \"column\": \"Producto\",\n      \"properties\": {\n        \"dtype\": \"category\",\n        \"num_unique_values\": 51,\n        \"samples\": [\n          \"Guitarra ac\\u00fastica\",\n          \"Bal\\u00f3n de baloncesto\",\n          \"Smartwatch\"\n        ],\n        \"semantic_type\": \"\",\n        \"description\": \"\"\n      }\n    },\n    {\n      \"column\": \"Categor\\u00eda del Producto\",\n      \"properties\": {\n        \"dtype\": \"category\",\n        \"num_unique_values\": 8,\n        \"samples\": [\n          \"Muebles\",\n          \"Deportes y diversi\\u00f3n\",\n          \"Electr\\u00f3nicos\"\n        ],\n        \"semantic_type\": \"\",\n        \"description\": \"\"\n      }\n    },\n    {\n      \"column\": \"Precio\",\n      \"properties\": {\n        \"dtype\": \"number\",\n        \"std\": 614686.7653873172,\n        \"min\": 7600.0,\n        \"max\": 2977000.0,\n        \"num_unique_values\": 1937,\n        \"samples\": [\n          2499400.0,\n          14800.0,\n          80500.0\n        ],\n        \"semantic_type\": \"\",\n        \"description\": \"\"\n      }\n    },\n    {\n      \"column\": \"Costo de env\\u00edo\",\n      \"properties\": {\n        \"dtype\": \"number\",\n        \"std\": 32860.0017825605,\n        \"min\": 0.0,\n        \"max\": 160800.0,\n        \"num_unique_values\": 753,\n        \"samples\": [\n          117800.0,\n          54700.0,\n          45600.0\n        ],\n        \"semantic_type\": \"\",\n        \"description\": \"\"\n      }\n    },\n    {\n      \"column\": \"Fecha de Compra\",\n      \"properties\": {\n        \"dtype\": \"object\",\n        \"num_unique_values\": 1018,\n        \"samples\": [\n          \"15/09/2022\",\n          \"03/06/2020\",\n          \"06/11/2021\"\n        ],\n        \"semantic_type\": \"\",\n        \"description\": \"\"\n      }\n    },\n    {\n      \"column\": \"Vendedor\",\n      \"properties\": {\n        \"dtype\": \"category\",\n        \"num_unique_values\": 14,\n        \"samples\": [\n          \"Juliana Costa\",\n          \"Mariana Herrera\",\n          \"Pedro Gomez\"\n        ],\n        \"semantic_type\": \"\",\n        \"description\": \"\"\n      }\n    },\n    {\n      \"column\": \"Lugar de Compra\",\n      \"properties\": {\n        \"dtype\": \"category\",\n        \"num_unique_values\": 19,\n        \"samples\": [\n          \"Bogot\\u00e1\",\n          \"Pereira\",\n          \"Neiva\"\n        ],\n        \"semantic_type\": \"\",\n        \"description\": \"\"\n      }\n    },\n    {\n      \"column\": \"Calificaci\\u00f3n\",\n      \"properties\": {\n        \"dtype\": \"number\",\n        \"std\": 1,\n        \"min\": 1,\n        \"max\": 5,\n        \"num_unique_values\": 5,\n        \"samples\": [\n          1,\n          2,\n          5\n        ],\n        \"semantic_type\": \"\",\n        \"description\": \"\"\n      }\n    },\n    {\n      \"column\": \"M\\u00e9todo de pago\",\n      \"properties\": {\n        \"dtype\": \"category\",\n        \"num_unique_values\": 4,\n        \"samples\": [\n          \"Nequi\",\n          \"Tarjeta de d\\u00e9bito\",\n          \"Tarjeta de cr\\u00e9dito\"\n        ],\n        \"semantic_type\": \"\",\n        \"description\": \"\"\n      }\n    },\n    {\n      \"column\": \"Cantidad de cuotas\",\n      \"properties\": {\n        \"dtype\": \"number\",\n        \"std\": 2,\n        \"min\": 1,\n        \"max\": 24,\n        \"num_unique_values\": 15,\n        \"samples\": [\n          7,\n          14,\n          8\n        ],\n        \"semantic_type\": \"\",\n        \"description\": \"\"\n      }\n    },\n    {\n      \"column\": \"lat\",\n      \"properties\": {\n        \"dtype\": \"number\",\n        \"std\": 2.2874452492678627,\n        \"min\": -4.21528,\n        \"max\": 11.54444,\n        \"num_unique_values\": 19,\n        \"samples\": [\n          4.60971,\n          4.81333,\n          2.9273\n        ],\n        \"semantic_type\": \"\",\n        \"description\": \"\"\n      }\n    },\n    {\n      \"column\": \"lon\",\n      \"properties\": {\n        \"dtype\": \"number\",\n        \"std\": 1.2178272727088486,\n        \"min\": -77.28111,\n        \"max\": -67.9239,\n        \"num_unique_values\": 19,\n        \"samples\": [\n          -74.08175,\n          -75.69611,\n          -75.28189\n        ],\n        \"semantic_type\": \"\",\n        \"description\": \"\"\n      }\n    }\n  ]\n}"
            }
          },
          "metadata": {},
          "execution_count": 1
        }
      ],
      "source": [
        "import pandas as pd\n",
        "\n",
        "url = \"https://raw.githubusercontent.com/alura-es-cursos/challenge1-data-science-latam/refs/heads/main/base-de-datos-challenge1-latam/tienda_1%20.csv\"\n",
        "url2 = \"https://raw.githubusercontent.com/alura-es-cursos/challenge1-data-science-latam/refs/heads/main/base-de-datos-challenge1-latam/tienda_2.csv\"\n",
        "url3 = \"https://raw.githubusercontent.com/alura-es-cursos/challenge1-data-science-latam/refs/heads/main/base-de-datos-challenge1-latam/tienda_3.csv\"\n",
        "url4 = \"https://raw.githubusercontent.com/alura-es-cursos/challenge1-data-science-latam/refs/heads/main/base-de-datos-challenge1-latam/tienda_4.csv\"\n",
        "\n",
        "tienda = pd.read_csv(url)\n",
        "tienda2 = pd.read_csv(url2)\n",
        "tienda3 = pd.read_csv(url3)\n",
        "tienda4 = pd.read_csv(url4)\n",
        "\n",
        "tienda.head()"
      ]
    },
    {
      "cell_type": "markdown",
      "source": [
        "#1. Análisis de facturación\n",
        "\n"
      ],
      "metadata": {
        "id": "X62IW3KFUIYm"
      }
    },
    {
      "cell_type": "code",
      "source": [
        "from urllib.request import urlopen\n",
        "import csv\n",
        "\n",
        "urls = [url, url2, url3, url4]\n"
      ],
      "metadata": {
        "id": "xykobSftV64I"
      },
      "execution_count": 2,
      "outputs": []
    },
    {
      "cell_type": "code",
      "source": [
        "def leer_csv(url):\n",
        "    datos = []\n",
        "    with urlopen(url) as respuesta:\n",
        "        lineas = respuesta.read().decode('utf-8').splitlines()\n",
        "        lector = csv.DictReader(lineas)\n",
        "        for fila in lector:\n",
        "            datos.append(fila)\n",
        "    return datos"
      ],
      "metadata": {
        "id": "KDyr8E71V3m-"
      },
      "execution_count": 3,
      "outputs": []
    },
    {
      "cell_type": "code",
      "source": [
        "total_facturacion = 0\n",
        "\n",
        "for i, url in enumerate(urls):\n",
        "    datos_tienda = leer_csv(url)\n",
        "    facturacion_tienda = 0\n",
        "\n",
        "    for venta in datos_tienda:\n",
        "        precio = float(venta['Precio'])  # Solo sumamos el precio\n",
        "        facturacion_tienda += precio\n",
        "\n",
        "    print(f\"Facturación Tienda {i+1}: ${facturacion_tienda:.2f}\")\n",
        "    total_facturacion += facturacion_tienda"
      ],
      "metadata": {
        "colab": {
          "base_uri": "https://localhost:8080/"
        },
        "id": "AZcpT28NceWE",
        "outputId": "a4e6f544-fa06-4ee4-9c91-9f27a0b80b95"
      },
      "execution_count": 4,
      "outputs": [
        {
          "output_type": "stream",
          "name": "stdout",
          "text": [
            "Facturación Tienda 1: $1150880400.00\n",
            "Facturación Tienda 2: $1116343500.00\n",
            "Facturación Tienda 3: $1098019600.00\n",
            "Facturación Tienda 4: $1038375700.00\n"
          ]
        }
      ]
    },
    {
      "cell_type": "code",
      "source": [
        "# Mostrar facturación total\n",
        "print(f\"\\nFacturación total de todas las tiendas: ${total_facturacion:.2f}\")"
      ],
      "metadata": {
        "colab": {
          "base_uri": "https://localhost:8080/"
        },
        "id": "SvwAS5j1cqs_",
        "outputId": "182d4bc7-8b98-422c-f86f-775d9ca6f15a"
      },
      "execution_count": 5,
      "outputs": [
        {
          "output_type": "stream",
          "name": "stdout",
          "text": [
            "\n",
            "Facturación total de todas las tiendas: $4403619200.00\n"
          ]
        }
      ]
    },
    {
      "cell_type": "code",
      "source": [
        "facturacion_tienda1 = tienda['Precio'].astype(float).sum()\n",
        "facturacion_tienda2 = tienda2['Precio'].astype(float).sum()\n",
        "facturacion_tienda3 = tienda3['Precio'].astype(float).sum()\n",
        "facturacion_tienda4 = tienda4['Precio'].astype(float).sum()\n",
        "\n",
        "print(f\"Facturación Tienda 1: ${facturacion_tienda1:.2f}\")\n",
        "print(f\"Facturación Tienda 2: ${facturacion_tienda2:.2f}\")\n",
        "print(f\"Facturación Tienda 3: ${facturacion_tienda3:.2f}\")\n",
        "print(f\"Facturación Tienda 4: ${facturacion_tienda4:.2f}\")"
      ],
      "metadata": {
        "colab": {
          "base_uri": "https://localhost:8080/"
        },
        "id": "gf1j3oE4huzj",
        "outputId": "f8405ef2-3f31-4fbb-ad97-e60a1c9bbf39"
      },
      "execution_count": 6,
      "outputs": [
        {
          "output_type": "stream",
          "name": "stdout",
          "text": [
            "Facturación Tienda 1: $1150880400.00\n",
            "Facturación Tienda 2: $1116343500.00\n",
            "Facturación Tienda 3: $1098019600.00\n",
            "Facturación Tienda 4: $1038375700.00\n"
          ]
        }
      ]
    },
    {
      "cell_type": "code",
      "source": [
        "facturacion_total = facturacion_tienda1 + facturacion_tienda2 + facturacion_tienda3 + facturacion_tienda4\n",
        "print(f\"\\nFacturación total de todas las tiendas: ${facturacion_total:.2f}\")"
      ],
      "metadata": {
        "colab": {
          "base_uri": "https://localhost:8080/"
        },
        "id": "OW2BMp6Xh2rz",
        "outputId": "a6202ac4-6ebc-46e1-99d2-70797af709bb"
      },
      "execution_count": 7,
      "outputs": [
        {
          "output_type": "stream",
          "name": "stdout",
          "text": [
            "\n",
            "Facturación total de todas las tiendas: $4403619200.00\n"
          ]
        }
      ]
    },
    {
      "cell_type": "markdown",
      "source": [
        "# 2. Ventas por categoría"
      ],
      "metadata": {
        "id": "2V_vcAPzWZmR"
      }
    },
    {
      "cell_type": "code",
      "source": [
        "def leer_csv(url):\n",
        "    datos = []\n",
        "    with urlopen(url) as respuesta:\n",
        "        # Decodificar los datos\n",
        "        lineas = respuesta.read().decode('utf-8').splitlines()\n",
        "        reader = csv.DictReader(lineas)\n",
        "        for fila in reader:\n",
        "            datos.append(fila)\n",
        "    return datos"
      ],
      "metadata": {
        "id": "A34YupIuYhfF"
      },
      "execution_count": 8,
      "outputs": []
    },
    {
      "cell_type": "code",
      "source": [
        "ventas_por_categoria = {}"
      ],
      "metadata": {
        "id": "yZR6cOjXYSk1"
      },
      "execution_count": 9,
      "outputs": []
    },
    {
      "cell_type": "code",
      "source": [
        "for i, url in enumerate(urls):\n",
        "    datos_tienda = leer_csv(url)\n",
        "    print(f\"\\nVentas por categoría en Tienda {i+1}:\")\n",
        "\n",
        "    categorias_tienda = {}\n",
        "\n",
        "    for venta in datos_tienda:\n",
        "        categoria = venta['Categoría del Producto']\n",
        "        precio = float(venta['Precio'])\n",
        "        cantidad = int(venta['Cantidad de cuotas'])\n",
        "        monto_venta = precio * cantidad\n",
        "\n",
        "        if categoria in categorias_tienda:\n",
        "            categorias_tienda[categoria] += monto_venta\n",
        "        else:\n",
        "            categorias_tienda[categoria] = monto_venta\n",
        "\n",
        "        if categoria in ventas_por_categoria:\n",
        "            ventas_por_categoria[categoria] += monto_venta\n",
        "        else:\n",
        "            ventas_por_categoria[categoria] = monto_venta\n",
        "\n",
        "    for categoria, monto in categorias_tienda.items():\n",
        "        print(f\"  {categoria}: ${monto:.2f}\")\n",
        "\n",
        "print(\"\\nVentas totales por categoría (todas las tiendas):\")\n",
        "for categoria, monto in ventas_por_categoria.items():\n",
        "    print(f\"  {categoria}: ${monto:.2f}\")"
      ],
      "metadata": {
        "colab": {
          "base_uri": "https://localhost:8080/"
        },
        "id": "fkepDXprhKZJ",
        "outputId": "343c8751-8623-4a1e-88d9-3f8e84190dbf"
      },
      "execution_count": 10,
      "outputs": [
        {
          "output_type": "stream",
          "name": "stdout",
          "text": [
            "\n",
            "Ventas por categoría en Tienda 1:\n",
            "  Electrónicos: $1290390700.00\n",
            "  Muebles: $582928200.00\n",
            "  Juguetes: $49062800.00\n",
            "  Electrodomésticos: $1032375600.00\n",
            "  Artículos para el hogar: $38316800.00\n",
            "  Deportes y diversión: $126883700.00\n",
            "  Libros: $25769400.00\n",
            "  Instrumentos musicales: $276990500.00\n",
            "\n",
            "Ventas por categoría en Tienda 2:\n",
            "  Muebles: $527332100.00\n",
            "  Instrumentos musicales: $294448700.00\n",
            "  Deportes y diversión: $81660600.00\n",
            "  Electrónicos: $1286643600.00\n",
            "  Artículos para el hogar: $42739700.00\n",
            "  Juguetes: $46721200.00\n",
            "  Electrodomésticos: $1026226300.00\n",
            "  Libros: $31417000.00\n",
            "\n",
            "Ventas por categoría en Tienda 3:\n",
            "  Electrodomésticos: $1081380800.00\n",
            "  Muebles: $555092500.00\n",
            "  Instrumentos musicales: $250336000.00\n",
            "  Deportes y diversión: $123399200.00\n",
            "  Electrónicos: $1101334500.00\n",
            "  Juguetes: $61190400.00\n",
            "  Artículos para el hogar: $44724600.00\n",
            "  Libros: $26358900.00\n",
            "\n",
            "Ventas por categoría en Tienda 4:\n",
            "  Electrodomésticos: $879089600.00\n",
            "  Muebles: $556628000.00\n",
            "  Deportes y diversión: $100062000.00\n",
            "  Libros: $29543400.00\n",
            "  Electrónicos: $1211446500.00\n",
            "  Instrumentos musicales: $222837200.00\n",
            "  Juguetes: $54641200.00\n",
            "  Artículos para el hogar: $44579300.00\n",
            "\n",
            "Ventas totales por categoría (todas las tiendas):\n",
            "  Electrónicos: $4889815300.00\n",
            "  Muebles: $2221980800.00\n",
            "  Juguetes: $211615600.00\n",
            "  Electrodomésticos: $4019072300.00\n",
            "  Artículos para el hogar: $170360400.00\n",
            "  Deportes y diversión: $432005500.00\n",
            "  Libros: $113088700.00\n",
            "  Instrumentos musicales: $1044612400.00\n"
          ]
        }
      ]
    },
    {
      "cell_type": "code",
      "source": [
        "total_general = sum(ventas_por_categoria.values())\n",
        "print(f\"\\nTotal general de ventas: ${total_general:.2f}\")"
      ],
      "metadata": {
        "colab": {
          "base_uri": "https://localhost:8080/"
        },
        "id": "1My5Sak9mrQ-",
        "outputId": "d2c3881c-8bef-4f02-f331-2e475bb740ef"
      },
      "execution_count": 11,
      "outputs": [
        {
          "output_type": "stream",
          "name": "stdout",
          "text": [
            "\n",
            "Total general de ventas: $13102551000.00\n"
          ]
        }
      ]
    },
    {
      "cell_type": "code",
      "source": [
        "def ventas_por_categoria(tienda, numero):\n",
        "    ventas = tienda.groupby('Categoría del Producto')['Precio'].sum()\n",
        "    print(f\"\\nVentas por categoría en Tienda {numero}:\")\n",
        "    print(ventas)\n",
        "\n",
        "ventas_por_categoria(tienda, 1)\n",
        "ventas_por_categoria(tienda2, 2)\n",
        "ventas_por_categoria(tienda3, 3)\n",
        "ventas_por_categoria(tienda4, 4)"
      ],
      "metadata": {
        "colab": {
          "base_uri": "https://localhost:8080/"
        },
        "id": "TmfXKdKOnDE7",
        "outputId": "5cacc799-5c35-4614-d432-febbb8d8e5b5"
      },
      "execution_count": 12,
      "outputs": [
        {
          "output_type": "stream",
          "name": "stdout",
          "text": [
            "\n",
            "Ventas por categoría en Tienda 1:\n",
            "Categoría del Producto\n",
            "Artículos para el hogar     12698400.0\n",
            "Deportes y diversión        39290000.0\n",
            "Electrodomésticos          363685200.0\n",
            "Electrónicos               429493500.0\n",
            "Instrumentos musicales      91299000.0\n",
            "Juguetes                    17995700.0\n",
            "Libros                       8784900.0\n",
            "Muebles                    187633700.0\n",
            "Name: Precio, dtype: float64\n",
            "\n",
            "Ventas por categoría en Tienda 2:\n",
            "Categoría del Producto\n",
            "Artículos para el hogar     14746900.0\n",
            "Deportes y diversión        34744500.0\n",
            "Electrodomésticos          348567800.0\n",
            "Electrónicos               410831100.0\n",
            "Instrumentos musicales     104990300.0\n",
            "Juguetes                    15945400.0\n",
            "Libros                      10091200.0\n",
            "Muebles                    176426300.0\n",
            "Name: Precio, dtype: float64\n",
            "\n",
            "Ventas por categoría en Tienda 3:\n",
            "Categoría del Producto\n",
            "Artículos para el hogar     15060000.0\n",
            "Deportes y diversión        35593100.0\n",
            "Electrodomésticos          329237900.0\n",
            "Electrónicos               410775800.0\n",
            "Instrumentos musicales      77380900.0\n",
            "Juguetes                    19401100.0\n",
            "Libros                       9498700.0\n",
            "Muebles                    201072100.0\n",
            "Name: Precio, dtype: float64\n",
            "\n",
            "Ventas por categoría en Tienda 4:\n",
            "Categoría del Producto\n",
            "Artículos para el hogar     15074500.0\n",
            "Deportes y diversión        33350100.0\n",
            "Electrodomésticos          283260200.0\n",
            "Electrónicos               409476100.0\n",
            "Instrumentos musicales      75102400.0\n",
            "Juguetes                    20262200.0\n",
            "Libros                       9321300.0\n",
            "Muebles                    192528900.0\n",
            "Name: Precio, dtype: float64\n"
          ]
        }
      ]
    },
    {
      "cell_type": "markdown",
      "source": [
        "# 3. Calificación promedio de la tienda\n"
      ],
      "metadata": {
        "id": "Rq6tU_xSY3jk"
      }
    },
    {
      "cell_type": "code",
      "source": [
        "def leer_csv(url):\n",
        "    datos = []\n",
        "    with urlopen(url) as respuesta:\n",
        "\n",
        "        lineas = respuesta.read().decode('utf-8').splitlines()\n",
        "        reader = csv.DictReader(lineas)\n",
        "        for fila in reader:\n",
        "            datos.append(fila)\n",
        "    return datos\n",
        "\n",
        "\n",
        "for i, url in enumerate(urls):\n",
        "    datos_tienda = leer_csv(url)\n",
        "\n",
        "\n",
        "    suma_calificaciones = 0\n",
        "    cantidad_productos = 0\n",
        "\n",
        "    for producto in datos_tienda:\n",
        "        try:\n",
        "\n",
        "            if 'Calificación' in producto:\n",
        "                calificacion = float(producto['Calificación'])\n",
        "            elif 'Calificacion' in producto:\n",
        "                calificacion = float(producto['Calificacion'])\n",
        "            elif 'calificación' in producto:\n",
        "                calificacion = float(producto['calificación'])\n",
        "            elif 'calificacion' in producto:\n",
        "                calificacion = float(producto['calificacion'])\n",
        "            else:\n",
        "\n",
        "                print(f\"Claves disponibles en la tienda {i+1}:\", producto.keys())\n",
        "                raise KeyError(\"No se encontró la columna de calificación\")\n",
        "\n",
        "            suma_calificaciones += calificacion\n",
        "            cantidad_productos += 1\n",
        "        except (ValueError, KeyError) as e:\n",
        "            if isinstance(e, KeyError):\n",
        "                raise\n",
        "\n",
        "            continue\n",
        "\n",
        "    if cantidad_productos > 0:\n",
        "        calificacion_promedio = suma_calificaciones / cantidad_productos\n",
        "        print(f\"Calificación promedio de la Tienda {i+1}: {calificacion_promedio:.2f}\")\n",
        "    else:\n",
        "        print(f\"No se pudieron procesar calificaciones para la Tienda {i+1}\")"
      ],
      "metadata": {
        "id": "bh3jjjJwY5MU",
        "colab": {
          "base_uri": "https://localhost:8080/"
        },
        "outputId": "d0b2a1f8-7a0e-4659-b5c8-2ad64cdf11d6"
      },
      "execution_count": 13,
      "outputs": [
        {
          "output_type": "stream",
          "name": "stdout",
          "text": [
            "Calificación promedio de la Tienda 1: 3.98\n",
            "Calificación promedio de la Tienda 2: 4.04\n",
            "Calificación promedio de la Tienda 3: 4.05\n",
            "Calificación promedio de la Tienda 4: 4.00\n"
          ]
        }
      ]
    },
    {
      "cell_type": "code",
      "source": [
        "def clasificacion_promedio(tienda, numero):\n",
        "    promedio = tienda['Calificación'].mean()\n",
        "    print(f\"Clasificación promedio en Tienda {numero}: {promedio:.2f}\")\n",
        "\n",
        "clasificacion_promedio(tienda, 1)\n",
        "clasificacion_promedio(tienda2, 2)\n",
        "clasificacion_promedio(tienda3, 3)\n",
        "clasificacion_promedio(tienda4, 4)"
      ],
      "metadata": {
        "id": "I0KkjPoTY88F",
        "colab": {
          "base_uri": "https://localhost:8080/"
        },
        "outputId": "6e86a2ff-eee8-4fb6-e745-e55bdc69067b"
      },
      "execution_count": 14,
      "outputs": [
        {
          "output_type": "stream",
          "name": "stdout",
          "text": [
            "Clasificación promedio en Tienda 1: 3.98\n",
            "Clasificación promedio en Tienda 2: 4.04\n",
            "Clasificación promedio en Tienda 3: 4.05\n",
            "Clasificación promedio en Tienda 4: 4.00\n"
          ]
        }
      ]
    },
    {
      "cell_type": "markdown",
      "source": [
        "# 4. Productos más y menos vendidos"
      ],
      "metadata": {
        "id": "DmNp1KPBZCm-"
      }
    },
    {
      "cell_type": "code",
      "source": [
        "def leer_csv(url):\n",
        "    datos = []\n",
        "    with urlopen(url) as respuesta:\n",
        "        lineas = respuesta.read().decode('utf-8').splitlines()\n",
        "        lector = csv.DictReader(lineas)\n",
        "        for fila in lector:\n",
        "            datos.append(fila)\n",
        "    return datos"
      ],
      "metadata": {
        "id": "qoyjqijQZHfF"
      },
      "execution_count": 16,
      "outputs": []
    },
    {
      "cell_type": "code",
      "source": [
        "from collections import defaultdict\n",
        "def top_productos(datos_tienda, tienda_numero):\n",
        "    ingreso_por_producto = defaultdict(float)\n",
        "\n",
        "    for venta in datos_tienda:\n",
        "        producto = venta['Producto']\n",
        "        precio = float(venta['Precio'])\n",
        "\n",
        "        ingreso_por_producto[producto] += precio\n",
        "\n",
        "\n",
        "    productos_ordenados = sorted(ingreso_por_producto.items(), key=lambda x: x[1], reverse=True)\n",
        "\n",
        "    top_mas_vendidos = productos_ordenados[:3]\n",
        "    top_menos_vendidos = productos_ordenados[-3:]\n",
        "\n",
        "    print(f\"\\nTienda {tienda_numero} - TOP 3 productos que MÁS dinero generaron:\")\n",
        "    for producto, ingreso in top_mas_vendidos:\n",
        "        print(f\"  {producto} - Ingresos: ${ingreso:.2f}\")\n",
        "\n",
        "    print(f\"\\nTienda {tienda_numero} - TOP 3 productos que MENOS dinero generaron:\")\n",
        "    for producto, ingreso in top_menos_vendidos:\n",
        "        print(f\"  {producto} - Ingresos: ${ingreso:.2f}\")\n",
        "\n",
        "\n",
        "for i, url in enumerate(urls, start=1):\n",
        "    datos_tienda = leer_csv(url)\n",
        "    top_productos(datos_tienda, i)"
      ],
      "metadata": {
        "id": "0Sw3sd4IZIGW",
        "colab": {
          "base_uri": "https://localhost:8080/"
        },
        "outputId": "5ec1cee2-d0ef-4c0a-bbd4-82cca4c19fdf"
      },
      "execution_count": 25,
      "outputs": [
        {
          "output_type": "stream",
          "name": "stdout",
          "text": [
            "\n",
            "Tienda 1 - TOP 3 productos que MÁS dinero generaron:\n",
            "  TV LED UHD 4K - Ingresos: $142150200.00\n",
            "  Refrigerador - Ingresos: $112143300.00\n",
            "  Iphone 15 - Ingresos: $97902200.00\n",
            "\n",
            "Tienda 1 - TOP 3 productos que MENOS dinero generaron:\n",
            "  Cubo mágico 8x8 - Ingresos: $696900.00\n",
            "  Dinosaurio Rex - Ingresos: $688900.00\n",
            "  Cuerda para saltar - Ingresos: $652800.00\n",
            "\n",
            "Tienda 2 - TOP 3 productos que MÁS dinero generaron:\n",
            "  Iphone 15 - Ingresos: $113225800.00\n",
            "  TV LED UHD 4K - Ingresos: $103375000.00\n",
            "  Refrigerador - Ingresos: $97632500.00\n",
            "\n",
            "Tienda 2 - TOP 3 productos que MENOS dinero generaron:\n",
            "  Cuerda para saltar - Ingresos: $856900.00\n",
            "  Dinosaurio Rex - Ingresos: $770300.00\n",
            "  Cubo mágico 8x8 - Ingresos: $643600.00\n",
            "\n",
            "Tienda 3 - TOP 3 productos que MÁS dinero generaron:\n",
            "  Refrigerador - Ingresos: $99889700.00\n",
            "  TV LED UHD 4K - Ingresos: $96669100.00\n",
            "  Iphone 15 - Ingresos: $93225700.00\n",
            "\n",
            "Tienda 3 - TOP 3 productos que MENOS dinero generaron:\n",
            "  Cuerda para saltar - Ingresos: $853800.00\n",
            "  Dinosaurio Rex - Ingresos: $795600.00\n",
            "  Cubo mágico 8x8 - Ingresos: $640400.00\n",
            "\n",
            "Tienda 4 - TOP 3 productos que MÁS dinero generaron:\n",
            "  Iphone 15 - Ingresos: $96697500.00\n",
            "  TV LED UHD 4K - Ingresos: $90295300.00\n",
            "  Smart TV - Ingresos: $82790400.00\n",
            "\n",
            "Tienda 4 - TOP 3 productos que MENOS dinero generaron:\n",
            "  Dinosaurio Rex - Ingresos: $858100.00\n",
            "  Cubo mágico 8x8 - Ingresos: $748400.00\n",
            "  Cuerda para saltar - Ingresos: $704800.00\n"
          ]
        }
      ]
    },
    {
      "cell_type": "code",
      "source": [
        "df_total = pd.concat(\n",
        "    [pd.read_csv(url).assign(Tienda=f\"Tienda {i+1}\") for i, url in enumerate(urls)],\n",
        "    ignore_index=True\n",
        ")\n",
        "\n",
        "\n",
        "df_total['Precio'] = df_total['Precio'].astype(float)\n",
        "df_total['Cantidad de cuotas'] = df_total['Cantidad de cuotas'].astype(int)\n",
        "\n",
        "\n",
        "df_total['Ingreso'] = df_total['Precio']\n",
        "\n",
        "\n",
        "ventas = df_total.groupby(['Tienda', 'Producto'])['Ingreso'].sum().reset_index()\n",
        "\n",
        "\n",
        "def top_productos(tienda):\n",
        "    data = ventas[ventas['Tienda'] == tienda]\n",
        "\n",
        "    top_mas_vendidos = data.sort_values(by='Ingreso', ascending=False).head(3)\n",
        "    top_menos_vendidos = data.sort_values(by='Ingreso', ascending=True).head(3)\n",
        "\n",
        "    print(f\"\\n{tienda} - TOP 3 productos que MÁS dinero generaron:\")\n",
        "    for _, fila in top_mas_vendidos.iterrows():\n",
        "        print(f\"  {fila['Producto']} - Ingresos: ${fila['Ingreso']:.2f}\")\n",
        "\n",
        "    print(f\"\\n{tienda} - TOP 3 productos que MENOS dinero generaron:\")\n",
        "    for _, fila in top_menos_vendidos.iterrows():\n",
        "        print(f\"  {fila['Producto']} - Ingresos: ${fila['Ingreso']:.2f}\")\n",
        "\n",
        "\n",
        "tiendas_unicas = ventas['Tienda'].unique()\n",
        "\n",
        "\n",
        "for tienda in tiendas_unicas:\n",
        "    top_productos(tienda)"
      ],
      "metadata": {
        "colab": {
          "base_uri": "https://localhost:8080/"
        },
        "id": "gJTnPH2EyUjx",
        "outputId": "e84a4b85-9593-476a-a394-12b179c89614"
      },
      "execution_count": 26,
      "outputs": [
        {
          "output_type": "stream",
          "name": "stdout",
          "text": [
            "\n",
            "Tienda 1 - TOP 3 productos que MÁS dinero generaron:\n",
            "  TV LED UHD 4K - Ingresos: $142150200.00\n",
            "  Refrigerador - Ingresos: $112143300.00\n",
            "  Iphone 15 - Ingresos: $97902200.00\n",
            "\n",
            "Tienda 1 - TOP 3 productos que MENOS dinero generaron:\n",
            "  Cuerda para saltar - Ingresos: $652800.00\n",
            "  Dinosaurio Rex - Ingresos: $688900.00\n",
            "  Cubo mágico 8x8 - Ingresos: $696900.00\n",
            "\n",
            "Tienda 2 - TOP 3 productos que MÁS dinero generaron:\n",
            "  Iphone 15 - Ingresos: $113225800.00\n",
            "  TV LED UHD 4K - Ingresos: $103375000.00\n",
            "  Refrigerador - Ingresos: $97632500.00\n",
            "\n",
            "Tienda 2 - TOP 3 productos que MENOS dinero generaron:\n",
            "  Cubo mágico 8x8 - Ingresos: $643600.00\n",
            "  Dinosaurio Rex - Ingresos: $770300.00\n",
            "  Cuerda para saltar - Ingresos: $856900.00\n",
            "\n",
            "Tienda 3 - TOP 3 productos que MÁS dinero generaron:\n",
            "  Refrigerador - Ingresos: $99889700.00\n",
            "  TV LED UHD 4K - Ingresos: $96669100.00\n",
            "  Iphone 15 - Ingresos: $93225700.00\n",
            "\n",
            "Tienda 3 - TOP 3 productos que MENOS dinero generaron:\n",
            "  Cubo mágico 8x8 - Ingresos: $640400.00\n",
            "  Dinosaurio Rex - Ingresos: $795600.00\n",
            "  Cuerda para saltar - Ingresos: $853800.00\n",
            "\n",
            "Tienda 4 - TOP 3 productos que MÁS dinero generaron:\n",
            "  Iphone 15 - Ingresos: $96697500.00\n",
            "  TV LED UHD 4K - Ingresos: $90295300.00\n",
            "  Smart TV - Ingresos: $82790400.00\n",
            "\n",
            "Tienda 4 - TOP 3 productos que MENOS dinero generaron:\n",
            "  Cuerda para saltar - Ingresos: $704800.00\n",
            "  Cubo mágico 8x8 - Ingresos: $748400.00\n",
            "  Dinosaurio Rex - Ingresos: $858100.00\n"
          ]
        }
      ]
    },
    {
      "cell_type": "markdown",
      "source": [
        "# 5. Envío promedio por tienda"
      ],
      "metadata": {
        "id": "Fl0cGi3bZKqU"
      }
    },
    {
      "cell_type": "code",
      "source": [],
      "metadata": {
        "id": "S2JeaCykZNy9"
      },
      "execution_count": 14,
      "outputs": []
    },
    {
      "cell_type": "code",
      "source": [],
      "metadata": {
        "id": "0tSdCie9ZQlt"
      },
      "execution_count": 14,
      "outputs": []
    }
  ]
}